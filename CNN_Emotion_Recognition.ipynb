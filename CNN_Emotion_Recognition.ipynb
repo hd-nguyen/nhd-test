{
  "nbformat": 4,
  "nbformat_minor": 0,
  "metadata": {
    "colab": {
      "name": "CNN_Emotion_Recognition.ipynb",
      "version": "0.3.2",
      "provenance": [],
      "private_outputs": true,
      "collapsed_sections": []
    },
    "kernelspec": {
      "name": "python3",
      "display_name": "Python 3"
    },
    "accelerator": "GPU"
  },
  "cells": [
    {
      "metadata": {
        "id": "K0_PGt2u-G2Q",
        "colab_type": "text"
      },
      "cell_type": "markdown",
      "source": [
        "**Import Libraries**"
      ]
    },
    {
      "metadata": {
        "id": "EGv8Pnoh7Rnm",
        "colab_type": "code",
        "colab": {}
      },
      "cell_type": "code",
      "source": [
        "import keras\n",
        "from keras.models import Model\n",
        "from keras.layers import Input, Conv2D, MaxPooling2D, AveragePooling2D, Flatten, Dense, Dropout\n",
        "from keras.optimizers import Adam\n",
        "from keras.preprocessing.image import ImageDataGenerator\n",
        "from keras.callbacks import EarlyStopping, ReduceLROnPlateau\n",
        "\n",
        "from IPython.display import SVG\n",
        "from keras.utils.vis_utils import model_to_dot\n",
        "\n",
        "import time\n",
        "import numpy as np\n",
        "import scipy as sc\n",
        "import matplotlib.pyplot as plt\n",
        "from google.colab import files\n",
        "# https://pypi.python.org/pypi/pydot\n",
        "#!apt-get -qq install -y graphviz && pip install -q pydot"
      ],
      "execution_count": 0,
      "outputs": []
    },
    {
      "metadata": {
        "id": "SzzG7Ts_0F1N",
        "colab_type": "text"
      },
      "cell_type": "markdown",
      "source": [
        "**Support Functions**"
      ]
    },
    {
      "metadata": {
        "id": "kZ7t9pPs90_v",
        "colab_type": "code",
        "colab": {}
      },
      "cell_type": "code",
      "source": [
        "def get_emotion(ohv):\n",
        "    indx = np.argmax(ohv)\n",
        "    # 0=Angry, 1=Disgust, 2=Fear, 3=Happy, 4=Sad, 5=Surprise, 6=Neutral    \n",
        "    if indx == 0:\n",
        "        return 'angry'\n",
        "    elif indx == 1:\n",
        "        return 'disgust'\n",
        "    elif indx == 2:\n",
        "        return 'fear'\n",
        "    elif indx == 3:\n",
        "        return 'happy'\n",
        "    elif indx == 4:\n",
        "        return 'sad'\n",
        "    elif indx == 5:\n",
        "        return 'surprise'\n",
        "    elif indx == 6:\n",
        "        return 'neutral'"
      ],
      "execution_count": 0,
      "outputs": []
    },
    {
      "metadata": {
        "id": "rkj9_QkRNLup",
        "colab_type": "code",
        "colab": {}
      },
      "cell_type": "code",
      "source": [
        "def test_model(model, testingset, x_testing, y_testing):\n",
        "  score = model.evaluate(x_testing, y_testing)\n",
        "  print('Test loss:', score[0])\n",
        "  print('Test accuracy:', score[1] * 100)\n",
        "  \n",
        "  img_indx = np.uint32(np.random.rand()*(testingset.shape[0] - 1))\n",
        "  sample = x_testing[img_indx, :]\n",
        "  sample = sample.reshape(img_dim, img_dim)\n",
        "\n",
        "  pred_cls = model.predict(sample.reshape(1, img_dim, img_dim, 1))\n",
        "\n",
        "  plt.imshow(sample, cmap='gray')\n",
        "  plt.show()\n",
        "  print('> testing image index: %d\\n> true emotion: %s\\n> predicted emotion: %s'\n",
        "        % (img_indx, get_emotion(y_testing[img_indx, :]), get_emotion(pred_cls)))"
      ],
      "execution_count": 0,
      "outputs": []
    },
    {
      "metadata": {
        "id": "qc3JvLOj-Lg3",
        "colab_type": "text"
      },
      "cell_type": "markdown",
      "source": [
        "**Data Preparing**"
      ]
    },
    {
      "metadata": {
        "id": "PIuTE87_7rKw",
        "colab_type": "code",
        "colab": {}
      },
      "cell_type": "code",
      "source": [
        "files.upload()\n",
        "\n",
        "trainingset = np.loadtxt('fer2013_training.csv', delimiter=',')\n",
        "pub_testingset = np.loadtxt('fer2013_public_test.csv', delimiter=',')\n",
        "priv_testingset = np.loadtxt('fer2013_private_test.csv', delimiter=',')\n",
        "trainingset"
      ],
      "execution_count": 0,
      "outputs": []
    },
    {
      "metadata": {
        "id": "OQ60YKob8NdQ",
        "colab_type": "code",
        "colab": {}
      },
      "cell_type": "code",
      "source": [
        "# Get data and labels\n",
        "n_inputs = 2304 # 48x48 pixels\n",
        "n_classes = 7 # angry, disgust, fear, happy, neutral, sad, and surprise\n",
        "img_dim = 48\n",
        "\n",
        "x_training = trainingset[:, 0:n_inputs]\n",
        "y_training = trainingset[:, n_inputs:n_inputs + n_classes]\n",
        "\n",
        "x_pub_testing = pub_testingset[:, 0:n_inputs]\n",
        "y_pub_testing = pub_testingset[:, n_inputs:n_inputs + n_classes]\n",
        "\n",
        "x_priv_testing = priv_testingset[:, 0:n_inputs]\n",
        "y_priv_testing = priv_testingset[:, n_inputs:n_inputs + n_classes]\n",
        "\n",
        "# Reshape\n",
        "x_training = x_training.reshape(x_training.shape[0], img_dim, img_dim)\n",
        "x_training = np.expand_dims(x_training, axis=4)\n",
        "\n",
        "x_pub_testing = x_pub_testing.reshape(x_pub_testing.shape[0], img_dim, img_dim)\n",
        "x_pub_testing = np.expand_dims(x_pub_testing, axis=4)\n",
        "\n",
        "x_priv_testing = x_priv_testing.reshape(x_priv_testing.shape[0], img_dim, img_dim)\n",
        "x_priv_testing = np.expand_dims(x_priv_testing, axis=4)"
      ],
      "execution_count": 0,
      "outputs": []
    },
    {
      "metadata": {
        "id": "LyahKUUf9gG3",
        "colab_type": "text"
      },
      "cell_type": "markdown",
      "source": [
        "**Build the Model**"
      ]
    },
    {
      "metadata": {
        "id": "UFri1_uj9UoX",
        "colab_type": "code",
        "colab": {}
      },
      "cell_type": "code",
      "source": [
        "# 48x48 portrait image\n",
        "input_image = Input(shape=(48, 48, 1), name='Input')\n",
        "\n",
        "# conv, pooling layers + dropout\n",
        "x = Conv2D(filters=32, kernel_size=(3, 3), padding='same', activation='relu', name='conv1_1')(input_image)\n",
        "x = Conv2D(filters=32, kernel_size=(3, 3), padding='valid', activation='relu', name='conv1_2')(x)\n",
        "x = Conv2D(filters=64, kernel_size=(3, 3), padding='same', activation='relu', name='conv1_3')(x)\n",
        "x = Conv2D(filters=64, kernel_size=(3, 3), padding='valid', activation='relu', name='conv1_4')(x)\n",
        "x = Conv2D(filters=128, kernel_size=(3, 3), padding='same', activation='relu', name='conv1_5')(x)\n",
        "x = Conv2D(filters=128, kernel_size=(3, 3), padding='valid', activation='relu', name='conv1_6')(x)\n",
        "x = MaxPooling2D(pool_size=(2, 2), name='pooling1')(x)\n",
        "x = Dropout(rate=0.5, name='conv_dropout1')(x)\n",
        "\n",
        "x = Conv2D(filters=128, kernel_size=(3, 3), padding='same', activation='relu', name='conv2_1')(x)\n",
        "x = Conv2D(filters=128, kernel_size=(3, 3), padding='valid', activation='relu', name='conv2_2')(x)\n",
        "x = Conv2D(filters=256, kernel_size=(3, 3), padding='same', activation='relu', name='conv2_3')(x)\n",
        "x = Conv2D(filters=256, kernel_size=(3, 3), padding='valid', activation='relu', name='conv2_4')(x)\n",
        "x = Conv2D(filters=512, kernel_size=(3, 3), padding='same', activation='relu', name='conv2_5')(x)\n",
        "x = Conv2D(filters=512, kernel_size=(3, 3), padding='valid', activation='relu', name='conv2_6')(x)\n",
        "x = MaxPooling2D(pool_size=(2, 2), name='pooling2')(x)\n",
        "x = Dropout(rate=0.5, name='conv_dropout2')(x)\n",
        "\n",
        "# matrix ---> vector\n",
        "x = Flatten(name='flatten')(x)\n",
        "\n",
        "# FC layers + dropout\n",
        "x = Dense(units=2048, activation='relu', name='fc1')(x)\n",
        "x = Dropout(rate=0.5, name='fc_dropout1')(x)\n",
        "\n",
        "x = Dense(units=2048, activation='relu', name='fc2')(x)\n",
        "x = Dropout(rate=0.5, name='fc_dropout2')(x)\n",
        "\n",
        "output_label = Dense(units=n_classes, activation='softmax', name='Output')(x)\n",
        "\n",
        "# define model\n",
        "model = Model(inputs=input_image, outputs=output_label, name='fer_cnn')\n",
        "\n",
        "# print model summary\n",
        "model.summary()"
      ],
      "execution_count": 0,
      "outputs": []
    },
    {
      "metadata": {
        "id": "J3RSqY7Z9lFR",
        "colab_type": "code",
        "colab": {}
      },
      "cell_type": "code",
      "source": [
        "#SVG(model_to_dot(model, show_shapes=True).create(prog='dot', format='svg'))"
      ],
      "execution_count": 0,
      "outputs": []
    },
    {
      "metadata": {
        "id": "ZI-UaXPfNZtJ",
        "colab_type": "text"
      },
      "cell_type": "markdown",
      "source": [
        "** Training and Evaluating the Model **"
      ]
    },
    {
      "metadata": {
        "id": "eZ4WSuuUNX4g",
        "colab_type": "code",
        "colab": {}
      },
      "cell_type": "code",
      "source": [
        "# declare learning rate, loss function, and model metric\n",
        "loss = 'categorical_crossentropy'\n",
        "lr = 0.0001\n",
        "model.compile(loss=loss, optimizer=Adam(lr=lr), metrics=['accuracy'])\n",
        "\n",
        "# train the model\n",
        "batch_size = 128\n",
        "epochs = 30\n",
        "\n",
        "starting_time = time.time()\n",
        "history = model.fit(x_training, y_training,\n",
        "                    batch_size,\n",
        "                    validation_data=(x_pub_testing, y_pub_testing),\n",
        "                    epochs=epochs)\n",
        "print('> training time is %.4f minutes' % ((time.time() - starting_time)/60))"
      ],
      "execution_count": 0,
      "outputs": []
    },
    {
      "metadata": {
        "id": "d8s_raV5vKDt",
        "colab_type": "code",
        "colab": {}
      },
      "cell_type": "code",
      "source": [
        "test_model(model, pub_testingset, x_pub_testing, y_pub_testing)"
      ],
      "execution_count": 0,
      "outputs": []
    },
    {
      "metadata": {
        "id": "zYU1091u9ou4",
        "colab_type": "text"
      },
      "cell_type": "markdown",
      "source": [
        "**Training and Evaluating the Model with DataAugmentation and EarlyStopping**"
      ]
    },
    {
      "metadata": {
        "id": "Oj8ln6BpV0Fk",
        "colab_type": "code",
        "colab": {}
      },
      "cell_type": "code",
      "source": [
        "# 48x48 portrait image\n",
        "input_image = Input(shape=(48, 48, 1), name='Input')\n",
        "\n",
        "# conv, pooling layers + dropout\n",
        "x = Conv2D(filters=32, kernel_size=(3, 3), padding='same', activation='relu', name='conv1_1')(input_image)\n",
        "x = Conv2D(filters=32, kernel_size=(3, 3), padding='valid', activation='relu', name='conv1_2')(x)\n",
        "x = Conv2D(filters=64, kernel_size=(3, 3), padding='same', activation='relu', name='conv1_3')(x)\n",
        "x = Conv2D(filters=64, kernel_size=(3, 3), padding='valid', activation='relu', name='conv1_4')(x)\n",
        "x = Conv2D(filters=128, kernel_size=(3, 3), padding='same', activation='relu', name='conv1_5')(x)\n",
        "x = Conv2D(filters=128, kernel_size=(3, 3), padding='valid', activation='relu', name='conv1_6')(x)\n",
        "x = MaxPooling2D(pool_size=(2, 2), name='pooling1')(x)\n",
        "x = Dropout(rate=0.5, name='conv_dropout1')(x)\n",
        "\n",
        "x = Conv2D(filters=128, kernel_size=(3, 3), padding='same', activation='relu', name='conv2_1')(x)\n",
        "x = Conv2D(filters=128, kernel_size=(3, 3), padding='valid', activation='relu', name='conv2_2')(x)\n",
        "x = Conv2D(filters=256, kernel_size=(3, 3), padding='same', activation='relu', name='conv2_3')(x)\n",
        "x = Conv2D(filters=256, kernel_size=(3, 3), padding='valid', activation='relu', name='conv2_4')(x)\n",
        "x = Conv2D(filters=512, kernel_size=(3, 3), padding='same', activation='relu', name='conv2_5')(x)\n",
        "x = Conv2D(filters=512, kernel_size=(3, 3), padding='valid', activation='relu', name='conv2_6')(x)\n",
        "x = MaxPooling2D(pool_size=(2, 2), name='pooling2')(x)\n",
        "x = Dropout(rate=0.5, name='conv_dropout2')(x)\n",
        "\n",
        "# matrix ---> vector\n",
        "x = Flatten(name='flatten')(x)\n",
        "\n",
        "# FC layers + dropout\n",
        "x = Dense(units=2048, activation='relu', name='fc1')(x)\n",
        "x = Dropout(rate=0.5, name='fc_dropout1')(x)\n",
        "\n",
        "x = Dense(units=2048, activation='relu', name='fc2')(x)\n",
        "x = Dropout(rate=0.5, name='fc_dropout2')(x)\n",
        "\n",
        "output_label = Dense(units=n_classes, activation='softmax', name='Output')(x)\n",
        "\n",
        "# define model\n",
        "model = Model(inputs=input_image, outputs=output_label, name='fer_cnn')\n",
        "\n",
        "# print model summary\n",
        "model.summary()"
      ],
      "execution_count": 0,
      "outputs": []
    },
    {
      "metadata": {
        "id": "qb1HoPLnm6bQ",
        "colab_type": "code",
        "colab": {}
      },
      "cell_type": "code",
      "source": [
        "# declare learning rate, loss function, and model metric\n",
        "loss = 'categorical_crossentropy'\n",
        "lr = 0.0001\n",
        "model.compile(loss=loss, optimizer=Adam(lr=lr), metrics=['accuracy'])\n",
        "\n",
        "# Data augmentation\n",
        "# based on https://keras.io/preprocessing/image/\n",
        "datagen = ImageDataGenerator(\n",
        "    rotation_range=45,\n",
        "    width_shift_range=0.2,\n",
        "    height_shift_range=0.2,\n",
        "    horizontal_flip=True)\n",
        "\n",
        "# EarlyStopping: stop training early to avoid overfitting\n",
        "early_stopping_after_epochs = 10\n",
        "early_stopping = EarlyStopping(monitor='val_loss', patience=early_stopping_after_epochs)\n",
        "\n",
        "# ReduceLROnPlateau: reduce learning rate while training (new_lr = lr x factor)\n",
        "reduce_lr_after_epochs = 10\n",
        "reduce_lr = ReduceLROnPlateau(monitor='val_loss', factor=0.1, patience=reduce_lr_after_epochs, min_lr=0.0001)"
      ],
      "execution_count": 0,
      "outputs": []
    },
    {
      "metadata": {
        "id": "7heBnsy2nMgw",
        "colab_type": "text"
      },
      "cell_type": "markdown",
      "source": [
        "***PublicTest***"
      ]
    },
    {
      "metadata": {
        "id": "aYNp3Mta9qTn",
        "colab_type": "code",
        "colab": {}
      },
      "cell_type": "code",
      "source": [
        "# train the model\n",
        "batch_size = 128\n",
        "epochs = 100\n",
        "\n",
        "# with DataAugmentation and EarlyStopping\n",
        "starting_time = time.time()\n",
        "history = model.fit_generator(datagen.flow(x_training, y_training, batch_size=batch_size),\n",
        "                              steps_per_epoch=len(x_training) / batch_size,\n",
        "                              validation_data=(x_pub_testing, y_pub_testing),\n",
        "                              epochs=epochs,\n",
        "                              callbacks=[early_stopping])\n",
        "print('> training time is %.4f minutes' % ((time.time() - starting_time)/60))"
      ],
      "execution_count": 0,
      "outputs": []
    },
    {
      "metadata": {
        "id": "z0WFRm9cm9D6",
        "colab_type": "code",
        "colab": {}
      },
      "cell_type": "code",
      "source": [
        "test_model(model, pub_testingset, x_pub_testing, y_pub_testing)"
      ],
      "execution_count": 0,
      "outputs": []
    },
    {
      "metadata": {
        "id": "MceyNWV0nTh6",
        "colab_type": "text"
      },
      "cell_type": "markdown",
      "source": [
        "***PrivateTest***"
      ]
    },
    {
      "metadata": {
        "id": "jni1p4kTEB7L",
        "colab_type": "code",
        "colab": {}
      },
      "cell_type": "code",
      "source": [
        "# train the model\n",
        "batch_size = 128\n",
        "epochs = 100\n",
        "\n",
        "# with DataAugmentation and EarlyStopping\n",
        "starting_time = time.time()\n",
        "history = model.fit_generator(datagen.flow(x_training, y_training, batch_size=batch_size),\n",
        "                              steps_per_epoch=len(x_training) / batch_size,\n",
        "                              validation_data=(x_priv_testing, y_priv_testing),\n",
        "                              epochs=epochs,\n",
        "                              callbacks=[early_stopping])\n",
        "print('> training time is %.4f minutes' % ((time.time() - starting_time)/60))"
      ],
      "execution_count": 0,
      "outputs": []
    },
    {
      "metadata": {
        "id": "UNaNAlYQnBjq",
        "colab_type": "code",
        "colab": {}
      },
      "cell_type": "code",
      "source": [
        "test_model(model, priv_testingset, x_priv_testing, y_priv_testing)"
      ],
      "execution_count": 0,
      "outputs": []
    }
  ]
}