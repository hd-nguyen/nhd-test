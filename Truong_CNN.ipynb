{
  "nbformat": 4,
  "nbformat_minor": 0,
  "metadata": {
    "colab": {
      "name": "Truong_CNN.ipynb",
      "version": "0.3.2",
      "provenance": [],
      "collapsed_sections": []
    },
    "kernelspec": {
      "name": "python3",
      "display_name": "Python 3"
    },
    "accelerator": "GPU"
  },
  "cells": [
    {
      "cell_type": "markdown",
      "metadata": {
        "id": "view-in-github",
        "colab_type": "text"
      },
      "source": [
        "[View in Colaboratory](https://colab.research.google.com/github/hd-nguyen/nhd-test/blob/master/Truong_CNN.ipynb)"
      ]
    },
    {
      "metadata": {
        "id": "8NYAYVhjnokl",
        "colab_type": "code",
        "colab": {
          "base_uri": "https://localhost:8080/",
          "height": 34
        },
        "outputId": "bc9c4318-afcb-467d-b30a-a786c594489b"
      },
      "cell_type": "code",
      "source": [
        "import keras\n",
        "from keras.models import Model\n",
        "from keras.layers import Input, Conv2D, MaxPooling2D, Flatten, Dense, Dropout\n",
        "from keras.optimizers import Adam\n",
        "\n",
        "from IPython.display import SVG\n",
        "from keras.utils.vis_utils import model_to_dot\n",
        "\n",
        "import time\n",
        "import numpy as np\n",
        "import scipy as sc\n",
        "import matplotlib.pyplot as plt\n",
        "from google.colab import files"
      ],
      "execution_count": 1,
      "outputs": [
        {
          "output_type": "stream",
          "text": [
            "Using TensorFlow backend.\n"
          ],
          "name": "stderr"
        }
      ]
    },
    {
      "metadata": {
        "id": "XaE4J295nv8C",
        "colab_type": "code",
        "colab": {
          "resources": {
            "http://localhost:8080/nbextensions/google.colab/files.js": {
              "data": "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",
              "ok": true,
              "headers": [
                [
                  "content-type",
                  "application/javascript"
                ]
              ],
              "status": 200,
              "status_text": ""
            }
          },
          "base_uri": "https://localhost:8080/",
          "height": 324
        },
        "outputId": "3d1fa092-1ea4-4b5f-f657-e17910f4cb6f"
      },
      "cell_type": "code",
      "source": [
        "files.upload()\n",
        "\n",
        "trainingset = np.loadtxt('training.csv', delimiter=',')\n",
        "testingset = np.loadtxt('testing.csv', delimiter=',')\n",
        "trainingset"
      ],
      "execution_count": 3,
      "outputs": [
        {
          "output_type": "display_data",
          "data": {
            "text/html": [
              "\n",
              "     <input type=\"file\" id=\"files-7ee98e9c-27c9-401b-8024-24c1278bd9df\" name=\"files[]\" multiple disabled />\n",
              "     <output id=\"result-7ee98e9c-27c9-401b-8024-24c1278bd9df\">\n",
              "      Upload widget is only available when the cell has been executed in the\n",
              "      current browser session. Please rerun this cell to enable.\n",
              "      </output>\n",
              "      <script src=\"/nbextensions/google.colab/files.js\"></script> "
            ],
            "text/plain": [
              "<IPython.core.display.HTML object>"
            ]
          },
          "metadata": {
            "tags": []
          }
        },
        {
          "output_type": "stream",
          "text": [
            "Saving testing.csv to testing.csv\n",
            "Saving training.csv to training.csv\n"
          ],
          "name": "stdout"
        },
        {
          "output_type": "execute_result",
          "data": {
            "text/plain": [
              "array([[0.       , 0.       , 0.       , ..., 0.       , 0.       ,\n",
              "        1.       ],\n",
              "       [0.       , 0.       , 0.       , ..., 0.       , 0.       ,\n",
              "        1.       ],\n",
              "       [0.       , 0.       , 0.       , ..., 0.       , 0.       ,\n",
              "        1.       ],\n",
              "       ...,\n",
              "       [0.       , 0.       , 0.       , ..., 5.0999994, 0.       ,\n",
              "        1.       ],\n",
              "       [0.       , 0.       , 0.       , ..., 5.0999994, 0.       ,\n",
              "        1.       ],\n",
              "       [0.       , 0.       , 0.       , ..., 5.0999994, 0.       ,\n",
              "        1.       ]])"
            ]
          },
          "metadata": {
            "tags": []
          },
          "execution_count": 3
        }
      ]
    },
    {
      "metadata": {
        "id": "FdSipBDgoEDi",
        "colab_type": "code",
        "colab": {
          "base_uri": "https://localhost:8080/",
          "height": 85
        },
        "outputId": "57475403-a773-4838-fb5c-9590b882c265"
      },
      "cell_type": "code",
      "source": [
        "# Get data and labels\n",
        "n_inputs = 49 # 7x7 pixels\n",
        "n_classes = 2 # \n",
        "img_dim = 7\n",
        "\n",
        "x_training = trainingset[:, 0:n_inputs]\n",
        "y_training = trainingset[:, n_inputs:n_inputs + n_classes]\n",
        "\n",
        "x_testing = testingset[:, 0:n_inputs]\n",
        "y_testing = testingset[:, n_inputs:n_inputs + n_classes]\n",
        "\n",
        "# Reshape\n",
        "x_training = x_training.reshape(x_training.shape[0], img_dim, img_dim)\n",
        "x_training = np.expand_dims(x_training, axis=4)\n",
        "\n",
        "x_testing = x_testing.reshape(x_testing.shape[0], img_dim, img_dim)\n",
        "x_testing = np.expand_dims(x_testing, axis=4)"
      ],
      "execution_count": 11,
      "outputs": [
        {
          "output_type": "stream",
          "text": [
            "/usr/local/lib/python3.6/dist-packages/ipykernel_launcher.py:13: DeprecationWarning: Both axis > a.ndim and axis < -a.ndim - 1 are deprecated and will raise an AxisError in the future.\n",
            "  del sys.path[0]\n",
            "/usr/local/lib/python3.6/dist-packages/ipykernel_launcher.py:16: DeprecationWarning: Both axis > a.ndim and axis < -a.ndim - 1 are deprecated and will raise an AxisError in the future.\n",
            "  app.launch_new_instance()\n"
          ],
          "name": "stderr"
        }
      ]
    },
    {
      "metadata": {
        "id": "xLKfTvNkpemJ",
        "colab_type": "code",
        "colab": {
          "base_uri": "https://localhost:8080/",
          "height": 408
        },
        "outputId": "6c28c0e4-68ba-4015-97eb-16759d9a2990"
      },
      "cell_type": "code",
      "source": [
        "# 7x7 portrait image\n",
        "input_image = Input(shape=(img_dim, img_dim, 1), name='Input')\n",
        "\n",
        "# conv, pooling layers + dropout\n",
        "x = Conv2D(filters=32, kernel_size=(3, 3), padding='same', activation='relu', name='conv1_1')(input_image)\n",
        "x = Conv2D(filters=32, kernel_size=(3, 3), padding='valid', activation='relu', name='conv1_2')(x)\n",
        "#x = MaxPooling2D(pool_size=(2, 2), name='pooling1')(x)\n",
        "#x = Dropout(rate=0.5, name='conv_dropout1')(x)\n",
        "\n",
        "x = Conv2D(filters=32, kernel_size=(3, 3), padding='same', activation='relu', name='conv2_1')(x)\n",
        "x = MaxPooling2D(pool_size=(2, 2), name='pooling2')(x)\n",
        "#x = Dropout(rate=0.5, name='conv_dropout2')(x)\n",
        "\n",
        "# matrix ---> vector\n",
        "x = Flatten(name='flatten')(x)\n",
        "\n",
        "# FC layers + dropout\n",
        "x = Dense(units=1024, activation='relu', name='fc1')(x)\n",
        "#x = Dropout(rate=0.5, name='fc_dropout1')(x)\n",
        "\n",
        "output_label = Dense(units=n_classes, activation='softmax', name='Output')(x)\n",
        "\n",
        "# define model\n",
        "model = Model(inputs=input_image, outputs=output_label, name='cnn')\n",
        "\n",
        "# print model summary\n",
        "model.summary()"
      ],
      "execution_count": 12,
      "outputs": [
        {
          "output_type": "stream",
          "text": [
            "_________________________________________________________________\n",
            "Layer (type)                 Output Shape              Param #   \n",
            "=================================================================\n",
            "Input (InputLayer)           (None, 7, 7, 1)           0         \n",
            "_________________________________________________________________\n",
            "conv1_1 (Conv2D)             (None, 7, 7, 32)          320       \n",
            "_________________________________________________________________\n",
            "conv1_2 (Conv2D)             (None, 5, 5, 32)          9248      \n",
            "_________________________________________________________________\n",
            "conv2_1 (Conv2D)             (None, 5, 5, 32)          9248      \n",
            "_________________________________________________________________\n",
            "pooling2 (MaxPooling2D)      (None, 2, 2, 32)          0         \n",
            "_________________________________________________________________\n",
            "flatten (Flatten)            (None, 128)               0         \n",
            "_________________________________________________________________\n",
            "fc1 (Dense)                  (None, 1024)              132096    \n",
            "_________________________________________________________________\n",
            "Output (Dense)               (None, 2)                 2050      \n",
            "=================================================================\n",
            "Total params: 152,962\n",
            "Trainable params: 152,962\n",
            "Non-trainable params: 0\n",
            "_________________________________________________________________\n"
          ],
          "name": "stdout"
        }
      ]
    },
    {
      "metadata": {
        "id": "Ad0U0p2hpzqx",
        "colab_type": "code",
        "colab": {
          "base_uri": "https://localhost:8080/",
          "height": 581
        },
        "outputId": "660b7ce9-d959-459d-8790-0322c9aa6dd6"
      },
      "cell_type": "code",
      "source": [
        "# declare learning rate, loss function, and model metric\n",
        "loss = 'categorical_crossentropy'\n",
        "lr = 0.001\n",
        "model.compile(loss=loss, optimizer=Adam(lr=lr), metrics=['accuracy'])\n",
        "\n",
        "# train the model\n",
        "batch_size = 128\n",
        "epochs = 15\n",
        "\n",
        "starting_time = time.time()\n",
        "history = model.fit(x_training, y_training,\n",
        "                    batch_size,\n",
        "                    validation_data=(x_testing, y_testing),\n",
        "                    epochs=epochs)\n",
        "print('> training time is %.4f minutes' % ((time.time() - starting_time)/60))"
      ],
      "execution_count": 9,
      "outputs": [
        {
          "output_type": "stream",
          "text": [
            "Train on 478489 samples, validate on 9983 samples\n",
            "Epoch 1/15\n",
            "478489/478489 [==============================] - 37s 76us/step - loss: 0.0214 - acc: 0.9979 - val_loss: 0.0145 - val_acc: 0.9982\n",
            "Epoch 2/15\n",
            " 11264/478489 [..............................] - ETA: 35s - loss: 0.0043 - acc: 0.9994"
          ],
          "name": "stdout"
        },
        {
          "output_type": "stream",
          "text": [
            "478489/478489 [==============================] - 36s 75us/step - loss: 0.0022 - acc: 0.9995 - val_loss: 0.0136 - val_acc: 0.9976\n",
            "Epoch 3/15\n",
            "148608/478489 [========>.....................] - ETA: 24s - loss: 0.0020 - acc: 0.9997"
          ],
          "name": "stdout"
        },
        {
          "output_type": "stream",
          "text": [
            "478489/478489 [==============================] - 36s 75us/step - loss: 0.0016 - acc: 0.9997 - val_loss: 0.0129 - val_acc: 0.9980\n",
            "Epoch 4/15\n",
            "201728/478489 [===========>..................] - ETA: 20s - loss: 0.0021 - acc: 0.9996"
          ],
          "name": "stdout"
        },
        {
          "output_type": "stream",
          "text": [
            "478489/478489 [==============================] - 36s 75us/step - loss: 0.0016 - acc: 0.9997 - val_loss: 0.0142 - val_acc: 0.9980\n",
            "Epoch 5/15\n",
            "222336/478489 [============>.................] - ETA: 19s - loss: 0.0016 - acc: 0.9997"
          ],
          "name": "stdout"
        },
        {
          "output_type": "stream",
          "text": [
            "478489/478489 [==============================] - 36s 75us/step - loss: 0.0013 - acc: 0.9998 - val_loss: 0.0092 - val_acc: 0.9965\n",
            "Epoch 6/15\n",
            "229632/478489 [=============>................] - ETA: 18s - loss: 0.0017 - acc: 0.9998"
          ],
          "name": "stdout"
        },
        {
          "output_type": "stream",
          "text": [
            "478489/478489 [==============================] - 36s 75us/step - loss: 0.0017 - acc: 0.9997 - val_loss: 0.0063 - val_acc: 0.9984\n",
            "Epoch 7/15\n",
            "229376/478489 [=============>................] - ETA: 18s - loss: 0.0010 - acc: 0.9998"
          ],
          "name": "stdout"
        },
        {
          "output_type": "stream",
          "text": [
            "478489/478489 [==============================] - 36s 75us/step - loss: 0.0012 - acc: 0.9998 - val_loss: 0.0161 - val_acc: 0.9973\n",
            "Epoch 8/15\n",
            "227584/478489 [=============>................] - ETA: 18s - loss: 0.0012 - acc: 0.9998"
          ],
          "name": "stdout"
        },
        {
          "output_type": "stream",
          "text": [
            "478489/478489 [==============================] - 36s 75us/step - loss: 0.0025 - acc: 0.9997 - val_loss: 0.0083 - val_acc: 0.9983\n",
            "Epoch 9/15\n",
            "228864/478489 [=============>................] - ETA: 18s - loss: 9.7025e-04 - acc: 0.9998"
          ],
          "name": "stdout"
        },
        {
          "output_type": "stream",
          "text": [
            "478489/478489 [==============================] - 36s 75us/step - loss: 0.0011 - acc: 0.9998 - val_loss: 0.0197 - val_acc: 0.9980\n",
            "Epoch 10/15\n",
            "227200/478489 [=============>................] - ETA: 18s - loss: 0.0013 - acc: 0.9998"
          ],
          "name": "stdout"
        },
        {
          "output_type": "stream",
          "text": [
            "478489/478489 [==============================] - 36s 75us/step - loss: 0.0012 - acc: 0.9998 - val_loss: 0.0186 - val_acc: 0.9979\n",
            "Epoch 11/15\n",
            "227456/478489 [=============>................] - ETA: 18s - loss: 8.0756e-04 - acc: 0.9999"
          ],
          "name": "stdout"
        },
        {
          "output_type": "stream",
          "text": [
            "478489/478489 [==============================] - 36s 75us/step - loss: 0.0010 - acc: 0.9998 - val_loss: 0.0232 - val_acc: 0.9981\n",
            "Epoch 12/15\n",
            "223488/478489 [=============>................] - ETA: 18s - loss: 9.4419e-04 - acc: 0.9998"
          ],
          "name": "stdout"
        },
        {
          "output_type": "stream",
          "text": [
            "478489/478489 [==============================] - 36s 75us/step - loss: 9.7417e-04 - acc: 0.9998 - val_loss: 0.0069 - val_acc: 0.9991\n",
            "Epoch 13/15\n",
            "218880/478489 [============>.................] - ETA: 19s - loss: 9.1235e-04 - acc: 0.9998"
          ],
          "name": "stdout"
        },
        {
          "output_type": "stream",
          "text": [
            "478489/478489 [==============================] - 36s 75us/step - loss: 0.0014 - acc: 0.9998 - val_loss: 0.0133 - val_acc: 0.9985\n",
            "Epoch 14/15\n",
            "225280/478489 [=============>................] - ETA: 18s - loss: 0.0011 - acc: 0.9998"
          ],
          "name": "stdout"
        },
        {
          "output_type": "stream",
          "text": [
            "478489/478489 [==============================] - 36s 75us/step - loss: 0.0011 - acc: 0.9998 - val_loss: 0.0062 - val_acc: 0.9983\n",
            "Epoch 15/15\n",
            "227456/478489 [=============>................] - ETA: 18s - loss: 0.0019 - acc: 0.9998"
          ],
          "name": "stdout"
        },
        {
          "output_type": "stream",
          "text": [
            "478489/478489 [==============================] - 36s 75us/step - loss: 0.0014 - acc: 0.9998 - val_loss: 0.0122 - val_acc: 0.9988\n",
            "> training time is 9.0107 minutes\n"
          ],
          "name": "stdout"
        }
      ]
    },
    {
      "metadata": {
        "id": "3boes44Bp96Z",
        "colab_type": "code",
        "colab": {
          "base_uri": "https://localhost:8080/",
          "height": 68
        },
        "outputId": "a2165b41-d041-4feb-886f-b07d8d0b574e"
      },
      "cell_type": "code",
      "source": [
        "score = model.evaluate(x_testing, y_testing)\n",
        "print('Test loss:', score[0])\n",
        "print('Test accuracy:', score[1] * 100)"
      ],
      "execution_count": 7,
      "outputs": [
        {
          "output_type": "stream",
          "text": [
            "9983/9983 [==============================] - 1s 86us/step\n",
            "Test loss: 0.0037841218813478793\n",
            "Test accuracy: 99.92988079735551\n"
          ],
          "name": "stdout"
        }
      ]
    },
    {
      "metadata": {
        "id": "e0s-eavhqREJ",
        "colab_type": "code",
        "colab": {}
      },
      "cell_type": "code",
      "source": [
        "def get_state(ohv):\n",
        "    indx = np.argmax(ohv)\n",
        "    # 0=Attacked, 1=Normal    \n",
        "    if indx == 0:\n",
        "        return 'attacked'\n",
        "    elif indx == 1:\n",
        "        return 'normal'"
      ],
      "execution_count": 0,
      "outputs": []
    },
    {
      "metadata": {
        "id": "MG_vhKtgp3c4",
        "colab_type": "code",
        "colab": {
          "base_uri": "https://localhost:8080/",
          "height": 398
        },
        "outputId": "16e33ebe-fa6a-4359-df32-f6f66490d7c1"
      },
      "cell_type": "code",
      "source": [
        "img_indx = np.uint32(np.random.rand()*(testingset.shape[0] - 1))\n",
        "sample = x_testing[img_indx, :]\n",
        "sample = sample.reshape(img_dim, img_dim)\n",
        "\n",
        "pred_cls = model.predict(sample.reshape(1, img_dim, img_dim, 1))\n",
        "\n",
        "plt.imshow(sample, cmap='gray')\n",
        "plt.show()\n",
        "print('> testing image index: %d\\n> true state: %s\\n> predicted state: %s'\n",
        "      % (img_indx, get_state(y_testing[img_indx, :]), get_state(pred_cls)))"
      ],
      "execution_count": 24,
      "outputs": [
        {
          "output_type": "display_data",
          "data": {
            "image/png": "[encoded data removed]",
            "text/plain": [
              "<matplotlib.figure.Figure at 0x7f23e22956d8>"
            ]
          },
          "metadata": {
            "tags": []
          }
        },
        {
          "output_type": "stream",
          "text": [
            "> testing image index: 5975\n",
            "> true state: attacked\n",
            "> predicted state: attacked\n"
          ],
          "name": "stdout"
        }
      ]
    }
  ]
}